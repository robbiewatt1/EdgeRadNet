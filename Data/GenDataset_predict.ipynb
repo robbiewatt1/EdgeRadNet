{
 "cells": [
  {
   "cell_type": "code",
   "execution_count": 4,
   "id": "initial_id",
   "metadata": {
    "collapsed": true,
    "ExecuteTime": {
     "end_time": "2024-09-16T22:15:58.006312758Z",
     "start_time": "2024-09-16T22:15:57.965741820Z"
    }
   },
   "outputs": [],
   "source": [
    "import numpy as np\n",
    "import h5py\n",
    "import matplotlib.pyplot as plt\n",
    "from scipy.io import loadmat\n",
    "from scipy.optimize import minimize"
   ]
  },
  {
   "cell_type": "code",
   "execution_count": 5,
   "outputs": [],
   "source": [
    "batches = [\"E326_09321\", \"E326_09322\", \"E326_09323\", \"E326_09324\", \"E326_09326\", \"E326_09327\"]"
   ],
   "metadata": {
    "collapsed": false,
    "ExecuteTime": {
     "end_time": "2024-09-16T22:15:58.249929985Z",
     "start_time": "2024-09-16T22:15:58.244326118Z"
    }
   },
   "id": "d17668fdb2b74c77"
  },
  {
   "cell_type": "code",
   "execution_count": 6,
   "outputs": [],
   "source": [
    "def gaussian(x, params):\n",
    "    return params[0] + params[1] * np.exp(\n",
    "        -0.5 * ((x - params[2]) / params[3])** 2.)\n",
    "\n",
    "def obj_func(params, x, y):\n",
    "    return np.mean((gaussian(x, params) - y)** 2.)\n",
    "\n",
    "def get_moments(image, print_=False):\n",
    "    x_axis = np.arange(image.shape[0])\n",
    "    y_axis = np.arange(image.shape[1])\n",
    "    \n",
    "    params_x = minimize(obj_func, np.array([0., 100., 150., 20]),\n",
    "                      args=(x_axis, np.mean(image, axis=1)), method=\"powell\").x\n",
    "    params_y = minimize(obj_func, np.array([0., 100., 200., 20]),\n",
    "                      args=(y_axis, np.mean(image, axis=0)), method=\"powell\").x\n",
    "    x_sig = np.abs(params_x[3])\n",
    "    x_mu = params_x[2]\n",
    "    y_sig = np.abs(params_y[3])\n",
    "    y_mu = params_y[2]\n",
    "    \n",
    "    if print_:\n",
    "        print(x_sig, y_sig)\n",
    "        fig, ax = plt.subplots()\n",
    "        ax.plot(x_axis, np.mean(image, axis=1))\n",
    "        ax.plot(x_axis, gaussian(x_axis, params_x))\n",
    "        ax.plot(y_axis, np.mean(image, axis=0))\n",
    "        ax.plot(y_axis, gaussian(y_axis, params_y))\n",
    "        plt.show()\n",
    "        \n",
    "    if y_mu < 100:\n",
    "        fig, ax = plt.subplots()\n",
    "        ax.plot(x_axis, np.mean(image, axis=1))\n",
    "        ax.plot(x_axis, gaussian(x_axis, params_x))\n",
    "        ax.plot(y_axis, np.mean(image, axis=0))\n",
    "        ax.plot(y_axis, gaussian(y_axis, params_y))\n",
    "        plt.show()\n",
    "        input()\n",
    "    \n",
    "    \n",
    "\n",
    "    if x_sig > 100 or y_sig > 100:\n",
    "        return np.array([x_mu, y_mu, x_sig, y_sig]), False\n",
    "    else:\n",
    "        return np.array([x_mu, y_mu, x_sig, y_sig]), True\n",
    "\n",
    "def get_moments_batch(batch):\n",
    "    print(batch.shape)\n",
    "    if len(batch.shape) == 5:\n",
    "        moments = np.zeros((*batch.shape[:3], 4))\n",
    "        for i in range(batch.shape[0]):\n",
    "            for j in range(batch.shape[1]):\n",
    "                for k in range(batch.shape[2]):\n",
    "                    moments[i, j, k], sucess = get_moments(batch[i, j, k])\n",
    "                    if not sucess:\n",
    "                        print(i, j, k)\n",
    "    elif len(batch.shape) == 4:\n",
    "        moments = np.zeros((*batch.shape[:2], 4))\n",
    "        for i in range(batch.shape[0]):\n",
    "            for j in range(batch.shape[1]):\n",
    "                moments[i, j], sucess = get_moments(batch[i, j])\n",
    "                if not sucess:\n",
    "                    print(i, j)\n",
    "    elif len(batch.shape) == 3:\n",
    "        moments = np.zeros((*batch.shape[:1], 4))\n",
    "        for i in range(batch.shape[0]):\n",
    "            moments[i], sucess = get_moments(batch[i])\n",
    "            if not sucess:\n",
    "                print(i)\n",
    "    else:\n",
    "        raise Exception(\"Wrong size batch.\")\n",
    "    return moments\n",
    "\n",
    "def pop_axis(data, axis):\n",
    "    return np.concatenate([data[:axis], data[axis + 1:]], axis=0), data[axis]"
   ],
   "metadata": {
    "collapsed": false,
    "ExecuteTime": {
     "end_time": "2024-09-16T22:15:58.639904111Z",
     "start_time": "2024-09-16T22:15:58.627787207Z"
    }
   },
   "id": "b10cdb73825e652b"
  },
  {
   "cell_type": "code",
   "execution_count": 7,
   "outputs": [
    {
     "name": "stdout",
     "output_type": "stream",
     "text": [
      "(128, 128) (128, 128) (128, 128)\n",
      "(600, 342)\n",
      "0 E326_09321\n",
      "shape1  (40, 40, 294, 488) 454\n",
      "(40, 40, 200, 400)\n",
      "1 E326_09322\n",
      "shape1  (40, 40, 294, 488) 454\n",
      "(40, 40, 200, 400)\n",
      "2 E326_09323\n",
      "shape1  (40, 40, 294, 488) 454\n",
      "(40, 40, 200, 400)\n",
      "3 E326_09324\n",
      "shape1  (40, 40, 294, 488) 454\n",
      "(40, 40, 200, 400)\n",
      "4 E326_09326\n",
      "shape1  (40, 40, 294, 488) 454\n",
      "(40, 40, 200, 400)\n",
      "5 E326_09327\n",
      "shape1  (40, 40, 294, 488) 454\n",
      "(40, 40, 200, 400)\n"
     ]
    }
   ],
   "source": [
    "## First get the backgrounds\n",
    "data_path = \"/media/DataDisk/E326/Jun09/\"\n",
    "batch = \"E326_09285\"\n",
    "\n",
    "datat_struct = loadmat(data_path + batch + \"/\" + batch + \".mat\")[\"data_struct\"]\n",
    "background_b1b2 = np.array(datat_struct[0][0][-1][0][0][4].T, dtype=np.float32)\n",
    "background_b1b2 = background_b1b2[70:198, 48:176]\n",
    "background_b2b3 = np.array(datat_struct[0][0][-1][0][0][5].T, dtype=np.float32)\n",
    "background_b2b3 = background_b2b3[154:282, 91:219]\n",
    "background_b3b4 = np.array(datat_struct[0][0][-1][0][0][6].T, dtype=np.float32)\n",
    "background_b3b4 = background_b3b4[350:478, 110:238]\n",
    "background_prof = np.array(datat_struct[0][0][-1][0][0][6].T, dtype=np.float32)\n",
    "print(background_b1b2.shape, background_b2b3.shape, background_b3b4.shape)\n",
    "print(background_prof.shape)\n",
    "\n",
    "\n",
    "start_b1b2 = [488, 552]\n",
    "start_b2b3 = [324, 547]\n",
    "start_b3b4 = [418, 494]\n",
    "start_prof = [488, 554]\n",
    "\n",
    "\n",
    "moments_total = []\n",
    "b1b2_total = []\n",
    "b2b3_total = []\n",
    "b3b4_total = []\n",
    "field_total = []\n",
    "\n",
    "shape = None\n",
    "for i, batch in enumerate(batches):\n",
    "    print(i, batch)\n",
    "    \n",
    "    # Get index for params\n",
    "    datat_struct = loadmat(data_path + batch + \"/\" + batch + \".mat\")[\"data_struct\"]\n",
    "    if len(datat_struct[0][0][1][0][0][5][0][0]) == 2:\n",
    "        index_b1b2 = 1\n",
    "        index_b2b3 = 2\n",
    "        index_b3b4 = 3\n",
    "    else:\n",
    "        index_b1b2 = 2\n",
    "        index_b2b3 = 3\n",
    "        index_b3b4 = 4\n",
    "    min_b1b2_y = datat_struct[0][0][1][0][0][index_b1b2][0][0][5][0][0]\n",
    "    min_b1b2_x = datat_struct[0][0][1][0][0][index_b1b2][0][0][6][0][0]\n",
    "    min_b2b3_y = datat_struct[0][0][1][0][0][index_b2b3][0][0][5][0][0]\n",
    "    min_b2b3_x = datat_struct[0][0][1][0][0][index_b2b3][0][0][6][0][0]\n",
    "    min_b3b4_y = datat_struct[0][0][1][0][0][index_b3b4][0][0][5][0][0]\n",
    "    min_b3b4_x = datat_struct[0][0][1][0][0][index_b3b4][0][0][6][0][0]\n",
    "    \n",
    "    index_b1b2 = [start_b1b2[0] - min_b1b2_x, start_b1b2[1] - min_b1b2_y]    \n",
    "    index_b2b3 = [start_b2b3[0] - min_b2b3_x, start_b2b3[1] - min_b2b3_y]\n",
    "    index_b3b4 = [start_b3b4[0] - min_b3b4_x, start_b3b4[1] - min_b3b4_y]\n",
    "    \n",
    "    # Get image data\n",
    "    file_path_b1b2 = data_path + batch + \"/images/PR11334/PR11334_data.h5\"\n",
    "    file_b1b2 = h5py.File(file_path_b1b2, \"r\")\n",
    "    file_path_b2b3 = data_path + batch + \"/images/PR11342/PR11342_data.h5\"\n",
    "    file_b2b3 = h5py.File(file_path_b2b3, \"r\")\n",
    "    file_path_b3b4 = data_path + batch + \"/images/PR11356/PR11356_data.h5\"\n",
    "    file_b3b4 = h5py.File(file_path_b3b4, \"r\")\n",
    "    \n",
    "    data_b1b2 = np.array(file_b1b2['entry/data/data'].astype(np.float32))\n",
    "    data_b2b3 = np.array(file_b2b3['entry/data/data'].astype(np.float32))\n",
    "    data_b3b4 = np.array(file_b3b4['entry/data/data'].astype(np.float32))\n",
    "    data_b1b2 = data_b1b2[..., index_b1b2[0]:index_b1b2[0]+128, index_b1b2[1]:index_b1b2[1]+128]\n",
    "    data_b1b2 = np.clip((data_b1b2 - background_b1b2), 0, 300)\n",
    "    data_b2b3 = data_b2b3[..., index_b2b3[0]:index_b2b3[0]+128, index_b2b3[1]:index_b2b3[1]+128]\n",
    "    data_b2b3 = np.clip((data_b2b3 - background_b2b3), 0, 300)\n",
    "    data_b3b4 = data_b3b4[..., index_b3b4[0]:index_b3b4[0]+128, index_b3b4[1]:index_b3b4[1]+128]\n",
    "    data_b3b4 = np.clip((data_b3b4 - background_b3b4), 0, 300)\n",
    "    \n",
    "    b1b2_total.append(data_b1b2)\n",
    "    b2b3_total.append(data_b2b3)\n",
    "    b3b4_total.append(data_b3b4)\n",
    "    \n",
    "    # Now do the field\n",
    "    field = datat_struct[0][0][0][0][0][28][0][0][0]\n",
    "    field = np.tile(field, (40, 1)).T\n",
    "    field_total.append(field)\n",
    "    \n",
    "    # Now do the beam size / moments\n",
    "    file_path = data_path + batch + \"/images/PR11375/PR11375_data.h5\"\n",
    "    file = h5py.File(file_path, \"r\")\n",
    "    \n",
    "    if len(datat_struct[0][0][1][0][0][5][0][0]) == 2:\n",
    "        index_375 = 4\n",
    "        if np.array(datat_struct[0][0][-1][0][0][6].T, dtype=np.float32).shape != shape:\n",
    "            background_prof = np.array(datat_struct[0][0][-1][0][0][6].T, dtype=np.float32)\n",
    "            shape = background_prof.shape\n",
    "    else:\n",
    "        index_375 = 5\n",
    "        if np.array(datat_struct[0][0][-1][0][0][7].T, dtype=np.float32).shape != shape:\n",
    "            background_prof = np.array(datat_struct[0][0][-1][0][0][7].T, dtype=np.float32)\n",
    "            shape = background_prof.shape\n",
    "    \n",
    "    min_prof_x = datat_struct[0][0][1][0][0][index_375][0][0][6][0][0]    \n",
    "    min_prof_y = datat_struct[0][0][1][0][0][index_375][0][0][5][0][0]\n",
    "    index_prof = [start_prof[0] - min_prof_x, start_prof[1] - min_prof_y] \n",
    "    \n",
    "    data_prof = np.array(file['entry/data/data'])\n",
    "    data_prof = data_prof - background_prof\n",
    "    data_prof = data_prof[..., index_prof[0]:index_prof[0]+200, index_prof[0]:index_prof[0]+400]\n",
    "\n",
    "    moments = get_moments_batch(data_prof)\n",
    "    moments_total.append(moments)\n",
    "    \n",
    "    "
   ],
   "metadata": {
    "collapsed": false,
    "ExecuteTime": {
     "end_time": "2024-09-16T22:18:39.564878435Z",
     "start_time": "2024-09-16T22:15:59.192042988Z"
    }
   },
   "id": "293f23ad80e4f588"
  },
  {
   "cell_type": "code",
   "execution_count": 8,
   "outputs": [
    {
     "data": {
      "text/plain": "Text(0, 0.5, '$\\\\Sigma_{y, y} (mm^2)$')"
     },
     "execution_count": 8,
     "metadata": {},
     "output_type": "execute_result"
    },
    {
     "data": {
      "text/plain": "<Figure size 400x300 with 1 Axes>",
      "image/png": "[encoded data removed]"
     },
     "metadata": {},
     "output_type": "display_data"
    }
   ],
   "source": [
    "# Do a quick quad scan check\n",
    "x_axis = np.linspace(-2, 3, 20)\n",
    "fig, ax = plt.subplots(figsize=(4, 3))\n",
    "beam_y = moments_total[1][4:24, 20, 3].flatten()**2.\n",
    "beam_y = 400**2 * beam_y / (600 * 1000000)\n",
    "ax.scatter(x_axis, beam_y, marker=\"x\", color= \"red\", s=60)\n",
    "params = np.polyfit(x_axis, beam_y , 2)\n",
    "x_axis2 = np.linspace(-2, 3, 200)\n",
    "\n",
    "ax.plot(x_axis2, params[0] * x_axis2**2 + params[1] * x_axis2 + params[2], color=\"blue\")\n",
    "ax.set_xlabel(\"k (1/$m^2$)\")\n",
    "ax.set_ylabel(\"$\\Sigma_{y, y} (mm^2)$\")"
   ],
   "metadata": {
    "collapsed": false,
    "ExecuteTime": {
     "end_time": "2024-09-16T22:18:39.726944217Z",
     "start_time": "2024-09-16T22:18:39.605050478Z"
    }
   },
   "id": "d91a2d59b610404a"
  },
  {
   "cell_type": "code",
   "execution_count": 9,
   "outputs": [],
   "source": [
    "# Get the test\n",
    "index = 2\n",
    "b1b2_test = b1b2_total.pop(index)\n",
    "b2b3_test = b2b3_total.pop(index)\n",
    "b3b4_test = b3b4_total.pop(index)\n",
    "moments_test = moments_total.pop(index)\n",
    "field_test = field_total.pop(index)\n",
    "\n",
    "b1b2_train = b1b2_total\n",
    "b2b3_train = b2b3_total\n",
    "b3b4_train = b3b4_total\n",
    "moments_train = moments_total\n",
    "field_train = field_total\n",
    "\n",
    "miss_step = [8, 9, 10, 11, 12]\n",
    "\n",
    "b1b2_val = []\n",
    "b2b3_val = []\n",
    "b3b4_val = []\n",
    "moments_val = []\n",
    "field_val = []\n",
    "for i, step in enumerate(miss_step):\n",
    "    b1b2_train[i], val = pop_axis(b1b2_train[i], step)\n",
    "    b1b2_val.append(val)\n",
    "    b2b3_train[i], val = pop_axis(b2b3_train[i], step)\n",
    "    b2b3_val.append(val)\n",
    "    b3b4_train[i], val = pop_axis(b3b4_train[i], step)\n",
    "    b3b4_val.append(val)\n",
    "    moments_train[i], val = pop_axis(moments_train[i], step)\n",
    "    moments_val.append(val)\n",
    "    field_train[i], val = pop_axis(field_train[i], step)\n",
    "    field_val.append(val)"
   ],
   "metadata": {
    "collapsed": false,
    "ExecuteTime": {
     "end_time": "2024-09-16T22:19:20.371299209Z",
     "start_time": "2024-09-16T22:19:20.151828749Z"
    }
   },
   "id": "4aa0829bfa15e072"
  },
  {
   "cell_type": "code",
   "execution_count": 10,
   "outputs": [],
   "source": [
    "# Change train to np array\n",
    "b1b2_train = np.stack(b1b2_train)\n",
    "b2b3_train = np.stack(b2b3_train)\n",
    "b3b4_train = np.stack(b3b4_train)\n",
    "moments_train = np.stack(moments_train)\n",
    "field_train = np.stack(field_train)\n",
    "\n",
    "# change test to np array\n",
    "b1b2_test = np.stack(b1b2_test)[None]\n",
    "b2b3_test = np.stack(b2b3_test)[None]\n",
    "b3b4_test = np.stack(b3b4_test)[None]\n",
    "moments_test = np.stack(moments_test)[None]\n",
    "field_test = np.stack(field_test)[None]\n",
    "\n",
    "# change val to np array\n",
    "b1b2_val = np.stack(b1b2_val)\n",
    "b2b3_val = np.stack(b2b3_val)\n",
    "b3b4_val = np.stack(b3b4_val)\n",
    "moments_val = np.stack(moments_val)\n",
    "field_val = np.stack(field_val)"
   ],
   "metadata": {
    "collapsed": false,
    "ExecuteTime": {
     "end_time": "2024-09-16T22:24:50.493635004Z",
     "start_time": "2024-09-16T22:24:50.232194986Z"
    }
   },
   "id": "f268b28cd1c894c8"
  },
  {
   "cell_type": "code",
   "execution_count": 11,
   "outputs": [],
   "source": [
    "with h5py.File('Train.h5', 'w') as hf:\n",
    "    hf.create_dataset(\"/B1B2\",  data=b1b2_train)\n",
    "    hf.create_dataset(\"/B2B3\",  data=b2b3_train)\n",
    "    hf.create_dataset(\"/B3B4\",  data=b3b4_train)\n",
    "    hf.create_dataset(\"/Moments\", data=moments_train)\n",
    "    hf.create_dataset(\"/Field\",  data=field_train)\n",
    "    \n",
    "with h5py.File('Test.h5', 'w') as hf:\n",
    "    hf.create_dataset(\"/B1B2\",  data=b1b2_test)\n",
    "    hf.create_dataset(\"/B2B3\",  data=b2b3_test)\n",
    "    hf.create_dataset(\"/B3B4\",  data=b3b4_test)\n",
    "    hf.create_dataset(\"/Moments\", data=moments_test)\n",
    "    hf.create_dataset(\"/Field\",  data=field_test)\n",
    "    \n",
    "    hf.create_dataset(\"/Sample/B1B2\",  data=b1b2_val)\n",
    "    hf.create_dataset(\"/Sample/B2B3\",  data=b2b3_val)\n",
    "    hf.create_dataset(\"/Sample/B3B4\",  data=b3b4_val)\n",
    "    hf.create_dataset(\"/Sample/Moments\", data=moments_val)\n",
    "    hf.create_dataset(\"/Sample/Field\",  data=field_val)\n",
    "     "
   ],
   "metadata": {
    "collapsed": false,
    "ExecuteTime": {
     "end_time": "2024-09-16T22:24:52.793444375Z",
     "start_time": "2024-09-16T22:24:51.418103928Z"
    }
   },
   "id": "b2cbeef894bfdb31"
  },
  {
   "cell_type": "code",
   "execution_count": null,
   "outputs": [],
   "source": [],
   "metadata": {
    "collapsed": false
   },
   "id": "3394a028f1e3b3a7"
  }
 ],
 "metadata": {
  "kernelspec": {
   "display_name": "Python 3",
   "language": "python",
   "name": "python3"
  },
  "language_info": {
   "codemirror_mode": {
    "name": "ipython",
    "version": 2
   },
   "file_extension": ".py",
   "mimetype": "text/x-python",
   "name": "python",
   "nbconvert_exporter": "python",
   "pygments_lexer": "ipython2",
   "version": "2.7.6"
  }
 },
 "nbformat": 4,
 "nbformat_minor": 5
}
